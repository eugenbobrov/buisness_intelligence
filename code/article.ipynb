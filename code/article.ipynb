{
 "cells": [
  {
   "cell_type": "code",
   "execution_count": 1,
   "metadata": {
    "collapsed": true,
    "nbpresent": {
     "id": "8032c591-e2d0-4c2d-bf66-a4495fcef1b7"
    }
   },
   "outputs": [],
   "source": [
    "import pandas as pd\n",
    "import numpy as np\n",
    "import numpy.random as npr"
   ]
  },
  {
   "cell_type": "code",
   "execution_count": 2,
   "metadata": {
    "collapsed": true,
    "nbpresent": {
     "id": "d602e02d-9357-4a3b-b450-b3d1c2a619f9"
    }
   },
   "outputs": [],
   "source": [
    "data = pd.read_csv('SCI.TXT', header=None,\n",
    "        usecols=[0,1,2,4,5,7,8,15,16,17,18])\n",
    "columns_names = {0:'authors', 1:'title', 2:'source', 4:'language',\n",
    "           5:'doctype', 7:'related_records_count',\n",
    "           8:'references_count', 15:'rc', 16:'author_keywords',\n",
    "           17:'editor_keywords', 18:'abstract'}\n",
    "data = data.rename_axis(columns_names, axis=1)#.iloc[npr.choice(len(data), int(1e3))]"
   ]
  },
  {
   "cell_type": "code",
   "execution_count": 3,
   "metadata": {},
   "outputs": [
    {
     "data": {
      "text/html": [
       "<div>\n",
       "<table border=\"1\" class=\"dataframe\">\n",
       "  <thead>\n",
       "    <tr style=\"text-align: right;\">\n",
       "      <th></th>\n",
       "      <th>authors</th>\n",
       "      <th>title</th>\n",
       "      <th>source</th>\n",
       "      <th>language</th>\n",
       "      <th>doctype</th>\n",
       "      <th>related_records_count</th>\n",
       "      <th>references_count</th>\n",
       "      <th>rc</th>\n",
       "      <th>author_keywords</th>\n",
       "      <th>editor_keywords</th>\n",
       "      <th>abstract</th>\n",
       "    </tr>\n",
       "  </thead>\n",
       "  <tbody>\n",
       "    <tr>\n",
       "      <th>0</th>\n",
       "      <td>Marchand-J Pigeon-M Bager-D Talbot-C</td>\n",
       "      <td>Influence of Chloride Solution Concentration o...</td>\n",
       "      <td>ACI MATERIALS JOURNAL 1999, Vol 96, Iss 4, pp ...</td>\n",
       "      <td>English</td>\n",
       "      <td>Article</td>\n",
       "      <td>1</td>\n",
       "      <td>21</td>\n",
       "      <td>UNIV-LAVAL, QUEBEC-CITY, PQ, CANADA/AALBORG-PO...</td>\n",
       "      <td>Deicers; Ice Formation; Porosity</td>\n",
       "      <td>HARDENED CEMENT PASTE</td>\n",
       "      <td>To analyze the influence of the chloride solut...</td>\n",
       "    </tr>\n",
       "    <tr>\n",
       "      <th>1</th>\n",
       "      <td>Edvardsen-C</td>\n",
       "      <td>Water Permeability and Autogenous Healing of C...</td>\n",
       "      <td>ACI MATERIALS JOURNAL 1999, Vol 96, Iss 4, pp ...</td>\n",
       "      <td>English</td>\n",
       "      <td>Article</td>\n",
       "      <td>13</td>\n",
       "      <td>17</td>\n",
       "      <td>COWI-CONSULTING-ENGINEERS, LYNGBY, DENMARK/PLA...</td>\n",
       "      <td>Autogenous Healing; Concretes; Cracking (Fract...</td>\n",
       "      <td>NaN</td>\n",
       "      <td>The well-known practical phenomenon of autogen...</td>\n",
       "    </tr>\n",
       "    <tr>\n",
       "      <th>2</th>\n",
       "      <td>Pauly-TM Lingvall-P</td>\n",
       "      <td>Effects of Mechanical Forage Treatment and Sur...</td>\n",
       "      <td>ACTA AGRICULTURAE SCANDINAVICA SECTION A-ANIMA...</td>\n",
       "      <td>English</td>\n",
       "      <td>Article</td>\n",
       "      <td>20</td>\n",
       "      <td>23</td>\n",
       "      <td>SWEDISH-UNIV-AGR-SCI, DEPT ANIM NUTR &amp; MANAGEM...</td>\n",
       "      <td>Chopping; Clostridium spp.; Forage Wagon; Harv...</td>\n",
       "      <td>CLOSTRIDIUM-TYROBUTYRICUM; QUALITY</td>\n",
       "      <td>Three silage experiments were conducted in Upp...</td>\n",
       "    </tr>\n",
       "    <tr>\n",
       "      <th>3</th>\n",
       "      <td>Mononen-J Harri-M Sepponen-J Korhonen-H Rekila...</td>\n",
       "      <td>A Top Box and a Floor Box as Breeding Nest Box...</td>\n",
       "      <td>ACTA AGRICULTURAE SCANDINAVICA SECTION A-ANIMA...</td>\n",
       "      <td>English</td>\n",
       "      <td>Article</td>\n",
       "      <td>9</td>\n",
       "      <td>20</td>\n",
       "      <td>UNIV-KUOPIO, INST APPL BIOTECHNOL, BOX 1627, F...</td>\n",
       "      <td>Fur Farming; Fox Farming; Housing; Reproductio...</td>\n",
       "      <td>BEHAVIOR; PLATFORMS; SUCCESS</td>\n",
       "      <td>The aim of this study was to provide field inf...</td>\n",
       "    </tr>\n",
       "    <tr>\n",
       "      <th>4</th>\n",
       "      <td>Hindhede-J Mogensen-L Sorensen-JT</td>\n",
       "      <td>Effect of Group Composition and Feeding System...</td>\n",
       "      <td>ACTA AGRICULTURAE SCANDINAVICA SECTION A-ANIMA...</td>\n",
       "      <td>English</td>\n",
       "      <td>Article</td>\n",
       "      <td>3</td>\n",
       "      <td>15</td>\n",
       "      <td>DANISH-INST-AGR-SCI, RES CTR FOULUM, DEPT ANIM...</td>\n",
       "      <td>Aggressive and Abnormal Behavior; Digital Diso...</td>\n",
       "      <td>SPACE ALLOWANCE</td>\n",
       "      <td>An experiment was conducted in eight Danish co...</td>\n",
       "    </tr>\n",
       "  </tbody>\n",
       "</table>\n",
       "</div>"
      ],
      "text/plain": [
       "                                             authors  \\\n",
       "0               Marchand-J Pigeon-M Bager-D Talbot-C   \n",
       "1                                        Edvardsen-C   \n",
       "2                                Pauly-TM Lingvall-P   \n",
       "3  Mononen-J Harri-M Sepponen-J Korhonen-H Rekila...   \n",
       "4                  Hindhede-J Mogensen-L Sorensen-JT   \n",
       "\n",
       "                                               title  \\\n",
       "0  Influence of Chloride Solution Concentration o...   \n",
       "1  Water Permeability and Autogenous Healing of C...   \n",
       "2  Effects of Mechanical Forage Treatment and Sur...   \n",
       "3  A Top Box and a Floor Box as Breeding Nest Box...   \n",
       "4  Effect of Group Composition and Feeding System...   \n",
       "\n",
       "                                              source language  doctype  \\\n",
       "0  ACI MATERIALS JOURNAL 1999, Vol 96, Iss 4, pp ...  English  Article   \n",
       "1  ACI MATERIALS JOURNAL 1999, Vol 96, Iss 4, pp ...  English  Article   \n",
       "2  ACTA AGRICULTURAE SCANDINAVICA SECTION A-ANIMA...  English  Article   \n",
       "3  ACTA AGRICULTURAE SCANDINAVICA SECTION A-ANIMA...  English  Article   \n",
       "4  ACTA AGRICULTURAE SCANDINAVICA SECTION A-ANIMA...  English  Article   \n",
       "\n",
       "   related_records_count  references_count  \\\n",
       "0                      1                21   \n",
       "1                     13                17   \n",
       "2                     20                23   \n",
       "3                      9                20   \n",
       "4                      3                15   \n",
       "\n",
       "                                                  rc  \\\n",
       "0  UNIV-LAVAL, QUEBEC-CITY, PQ, CANADA/AALBORG-PO...   \n",
       "1  COWI-CONSULTING-ENGINEERS, LYNGBY, DENMARK/PLA...   \n",
       "2  SWEDISH-UNIV-AGR-SCI, DEPT ANIM NUTR & MANAGEM...   \n",
       "3  UNIV-KUOPIO, INST APPL BIOTECHNOL, BOX 1627, F...   \n",
       "4  DANISH-INST-AGR-SCI, RES CTR FOULUM, DEPT ANIM...   \n",
       "\n",
       "                                     author_keywords  \\\n",
       "0                   Deicers; Ice Formation; Porosity   \n",
       "1  Autogenous Healing; Concretes; Cracking (Fract...   \n",
       "2  Chopping; Clostridium spp.; Forage Wagon; Harv...   \n",
       "3  Fur Farming; Fox Farming; Housing; Reproductio...   \n",
       "4  Aggressive and Abnormal Behavior; Digital Diso...   \n",
       "\n",
       "                      editor_keywords  \\\n",
       "0               HARDENED CEMENT PASTE   \n",
       "1                                 NaN   \n",
       "2  CLOSTRIDIUM-TYROBUTYRICUM; QUALITY   \n",
       "3        BEHAVIOR; PLATFORMS; SUCCESS   \n",
       "4                     SPACE ALLOWANCE   \n",
       "\n",
       "                                            abstract  \n",
       "0  To analyze the influence of the chloride solut...  \n",
       "1  The well-known practical phenomenon of autogen...  \n",
       "2  Three silage experiments were conducted in Upp...  \n",
       "3  The aim of this study was to provide field inf...  \n",
       "4  An experiment was conducted in eight Danish co...  "
      ]
     },
     "execution_count": 3,
     "metadata": {},
     "output_type": "execute_result"
    }
   ],
   "source": [
    "data.index = np.arange(len(data))\n",
    "data.head()"
   ]
  },
  {
   "cell_type": "code",
   "execution_count": 4,
   "metadata": {
    "nbpresent": {
     "id": "2f850170-6afd-4ef2-aeee-6d0d2bdc18ae"
    }
   },
   "outputs": [],
   "source": [
    "data = data.fillna('')\n",
    "data = data.join(pd.DataFrame(\n",
    "    data['author_keywords'].apply(lambda x: x.lower().replace('-', ' ').\n",
    "    replace('; ',' ').replace('(',' ').replace(')', ' ').split(sep=' ')) + \n",
    "    data['editor_keywords'].apply(lambda x: x.lower().replace('-', ' ').\n",
    "    replace('; ',' ').replace('(',' ').replace(')', ' ').split(sep=' '))). \n",
    "    rename_axis({0:'keywords'}, axis=1))\n",
    "keyword = list()\n",
    "for klist in data['keywords']:\n",
    "    seen = set()\n",
    "    newklist = list()\n",
    "    for k in klist:\n",
    "        if k not in seen and len(k) > 2 and k.isalpha():\n",
    "            newklist.append(k)\n",
    "            seen.add(k)\n",
    "    keyword.append(newklist)\n",
    "data['keywords'] = pd.Series(keyword)\n",
    "data['authors'] = data['authors'].apply(lambda x: x.lower().split())\n",
    "data['language'] = data['language'].apply(lambda x: x.lower())\n",
    "data['doctype'] = data['doctype'].apply(lambda x: x.lower())\n",
    "data['title'] = data['title'].apply(lambda x: x.lower())\n",
    "data['abstract'] = data['abstract'].apply(lambda x: x.lower())\n",
    "data['source'] = data['source'].apply(lambda x: x.lower().split(sep=','))\n",
    "journal = list()\n",
    "year = list()\n",
    "for sentence in data['source']:    \n",
    "    journal.append(sentence[0][:-5])\n",
    "    year.append(sentence[0][-4:])\n",
    "data = data.join(pd.DataFrame(journal, columns=['journal']))\n",
    "data = data.join(pd.DataFrame(year, columns=['article_year']))\n",
    "data['rc'] = data['rc'].apply(lambda x: x.lower().split(sep='/'))\n",
    "univ = list()\n",
    "for list_sentences in data['rc']:\n",
    "    u = list()\n",
    "    for sentence in list_sentences:\n",
    "        words = sentence.split(', ')\n",
    "        u.append((words[0], words[-1]))\n",
    "    univ.append(np.array(u))\n",
    "data = data.join(pd.DataFrame(pd.Series(univ),columns=['university_country']))\n",
    "data = data.drop(['author_keywords',\n",
    "    'editor_keywords', 'rc', 'source'], axis=1)"
   ]
  },
  {
   "cell_type": "code",
   "execution_count": 5,
   "metadata": {
    "nbpresent": {
     "id": "ccf2d3e1-587d-4d01-aa27-c9feda370b58"
    }
   },
   "outputs": [
    {
     "data": {
      "text/plain": [
       "(364221, 11)"
      ]
     },
     "execution_count": 5,
     "metadata": {},
     "output_type": "execute_result"
    }
   ],
   "source": [
    "data.shape"
   ]
  },
  {
   "cell_type": "code",
   "execution_count": 6,
   "metadata": {},
   "outputs": [
    {
     "data": {
      "text/html": [
       "<div>\n",
       "<table border=\"1\" class=\"dataframe\">\n",
       "  <thead>\n",
       "    <tr style=\"text-align: right;\">\n",
       "      <th></th>\n",
       "      <th>authors</th>\n",
       "      <th>title</th>\n",
       "      <th>language</th>\n",
       "      <th>doctype</th>\n",
       "      <th>related_records_count</th>\n",
       "      <th>references_count</th>\n",
       "      <th>abstract</th>\n",
       "      <th>keywords</th>\n",
       "      <th>journal</th>\n",
       "      <th>article_year</th>\n",
       "      <th>university_country</th>\n",
       "    </tr>\n",
       "  </thead>\n",
       "  <tbody>\n",
       "    <tr>\n",
       "      <th>0</th>\n",
       "      <td>[marchand-j, pigeon-m, bager-d, talbot-c]</td>\n",
       "      <td>influence of chloride solution concentration o...</td>\n",
       "      <td>english</td>\n",
       "      <td>article</td>\n",
       "      <td>1</td>\n",
       "      <td>21</td>\n",
       "      <td>to analyze the influence of the chloride solut...</td>\n",
       "      <td>[deicers, ice, formation, porosity, hardened, ...</td>\n",
       "      <td>aci materials journal</td>\n",
       "      <td>1999</td>\n",
       "      <td>[[univ-laval, canada], [aalborg-portland-inc, ...</td>\n",
       "    </tr>\n",
       "    <tr>\n",
       "      <th>1</th>\n",
       "      <td>[edvardsen-c]</td>\n",
       "      <td>water permeability and autogenous healing of c...</td>\n",
       "      <td>english</td>\n",
       "      <td>article</td>\n",
       "      <td>13</td>\n",
       "      <td>17</td>\n",
       "      <td>the well-known practical phenomenon of autogen...</td>\n",
       "      <td>[autogenous, healing, concretes, cracking, fra...</td>\n",
       "      <td>aci materials journal</td>\n",
       "      <td>1999</td>\n",
       "      <td>[[cowi-consulting-engineers, denmark], [planne...</td>\n",
       "    </tr>\n",
       "    <tr>\n",
       "      <th>2</th>\n",
       "      <td>[pauly-tm, lingvall-p]</td>\n",
       "      <td>effects of mechanical forage treatment and sur...</td>\n",
       "      <td>english</td>\n",
       "      <td>article</td>\n",
       "      <td>20</td>\n",
       "      <td>23</td>\n",
       "      <td>three silage experiments were conducted in upp...</td>\n",
       "      <td>[chopping, clostridium, forage, wagon, harvest...</td>\n",
       "      <td>acta agriculturae scandinavica section a-anima...</td>\n",
       "      <td>1999</td>\n",
       "      <td>[[swedish-univ-agr-sci, sweden]]</td>\n",
       "    </tr>\n",
       "    <tr>\n",
       "      <th>3</th>\n",
       "      <td>[mononen-j, harri-m, sepponen-j, korhonen-h, r...</td>\n",
       "      <td>a top box and a floor box as breeding nest box...</td>\n",
       "      <td>english</td>\n",
       "      <td>article</td>\n",
       "      <td>9</td>\n",
       "      <td>20</td>\n",
       "      <td>the aim of this study was to provide field inf...</td>\n",
       "      <td>[fur, farming, fox, housing, reproduction, top...</td>\n",
       "      <td>acta agriculturae scandinavica section a-anima...</td>\n",
       "      <td>1999</td>\n",
       "      <td>[[univ-kuopio, finland], [agr-res-ctr-finland,...</td>\n",
       "    </tr>\n",
       "    <tr>\n",
       "      <th>4</th>\n",
       "      <td>[hindhede-j, mogensen-l, sorensen-jt]</td>\n",
       "      <td>effect of group composition and feeding system...</td>\n",
       "      <td>english</td>\n",
       "      <td>article</td>\n",
       "      <td>3</td>\n",
       "      <td>15</td>\n",
       "      <td>an experiment was conducted in eight danish co...</td>\n",
       "      <td>[aggressive, and, abnormal, behavior, digital,...</td>\n",
       "      <td>acta agriculturae scandinavica section a-anima...</td>\n",
       "      <td>1999</td>\n",
       "      <td>[[danish-inst-agr-sci, denmark], [danish-inst-...</td>\n",
       "    </tr>\n",
       "  </tbody>\n",
       "</table>\n",
       "</div>"
      ],
      "text/plain": [
       "                                             authors  \\\n",
       "0          [marchand-j, pigeon-m, bager-d, talbot-c]   \n",
       "1                                      [edvardsen-c]   \n",
       "2                             [pauly-tm, lingvall-p]   \n",
       "3  [mononen-j, harri-m, sepponen-j, korhonen-h, r...   \n",
       "4              [hindhede-j, mogensen-l, sorensen-jt]   \n",
       "\n",
       "                                               title language  doctype  \\\n",
       "0  influence of chloride solution concentration o...  english  article   \n",
       "1  water permeability and autogenous healing of c...  english  article   \n",
       "2  effects of mechanical forage treatment and sur...  english  article   \n",
       "3  a top box and a floor box as breeding nest box...  english  article   \n",
       "4  effect of group composition and feeding system...  english  article   \n",
       "\n",
       "   related_records_count  references_count  \\\n",
       "0                      1                21   \n",
       "1                     13                17   \n",
       "2                     20                23   \n",
       "3                      9                20   \n",
       "4                      3                15   \n",
       "\n",
       "                                            abstract  \\\n",
       "0  to analyze the influence of the chloride solut...   \n",
       "1  the well-known practical phenomenon of autogen...   \n",
       "2  three silage experiments were conducted in upp...   \n",
       "3  the aim of this study was to provide field inf...   \n",
       "4  an experiment was conducted in eight danish co...   \n",
       "\n",
       "                                            keywords  \\\n",
       "0  [deicers, ice, formation, porosity, hardened, ...   \n",
       "1  [autogenous, healing, concretes, cracking, fra...   \n",
       "2  [chopping, clostridium, forage, wagon, harvest...   \n",
       "3  [fur, farming, fox, housing, reproduction, top...   \n",
       "4  [aggressive, and, abnormal, behavior, digital,...   \n",
       "\n",
       "                                             journal article_year  \\\n",
       "0                              aci materials journal         1999   \n",
       "1                              aci materials journal         1999   \n",
       "2  acta agriculturae scandinavica section a-anima...         1999   \n",
       "3  acta agriculturae scandinavica section a-anima...         1999   \n",
       "4  acta agriculturae scandinavica section a-anima...         1999   \n",
       "\n",
       "                                  university_country  \n",
       "0  [[univ-laval, canada], [aalborg-portland-inc, ...  \n",
       "1  [[cowi-consulting-engineers, denmark], [planne...  \n",
       "2                   [[swedish-univ-agr-sci, sweden]]  \n",
       "3  [[univ-kuopio, finland], [agr-res-ctr-finland,...  \n",
       "4  [[danish-inst-agr-sci, denmark], [danish-inst-...  "
      ]
     },
     "execution_count": 6,
     "metadata": {},
     "output_type": "execute_result"
    }
   ],
   "source": [
    "data.head()"
   ]
  },
  {
   "cell_type": "code",
   "execution_count": 7,
   "metadata": {
    "collapsed": true,
    "nbpresent": {
     "id": "d6b51fde-001f-4c0d-93c7-38149d67a1af"
    }
   },
   "outputs": [],
   "source": [
    "language_series = pd.Series(sorted(set(data['language'])))\n",
    "language = (pd.DataFrame(language_series.index).\n",
    "    rename(columns={0:'language_id'}).join(pd.DataFrame(language_series).\n",
    "    rename(columns={0:'language_name'})))\n",
    "language.to_csv('language.csv', sep=';', index=False)"
   ]
  },
  {
   "cell_type": "code",
   "execution_count": 8,
   "metadata": {
    "nbpresent": {
     "id": "eb645ed0-75b7-4879-8402-73f0b71e2d5e"
    }
   },
   "outputs": [
    {
     "data": {
      "text/html": [
       "<div>\n",
       "<table border=\"1\" class=\"dataframe\">\n",
       "  <thead>\n",
       "    <tr style=\"text-align: right;\">\n",
       "      <th></th>\n",
       "      <th>language_id</th>\n",
       "      <th>language_name</th>\n",
       "    </tr>\n",
       "  </thead>\n",
       "  <tbody>\n",
       "    <tr>\n",
       "      <th>0</th>\n",
       "      <td>0</td>\n",
       "      <td>chinese</td>\n",
       "    </tr>\n",
       "    <tr>\n",
       "      <th>1</th>\n",
       "      <td>1</td>\n",
       "      <td>czech</td>\n",
       "    </tr>\n",
       "    <tr>\n",
       "      <th>2</th>\n",
       "      <td>2</td>\n",
       "      <td>danish</td>\n",
       "    </tr>\n",
       "    <tr>\n",
       "      <th>3</th>\n",
       "      <td>3</td>\n",
       "      <td>english</td>\n",
       "    </tr>\n",
       "    <tr>\n",
       "      <th>4</th>\n",
       "      <td>4</td>\n",
       "      <td>finnish</td>\n",
       "    </tr>\n",
       "  </tbody>\n",
       "</table>\n",
       "</div>"
      ],
      "text/plain": [
       "   language_id language_name\n",
       "0            0       chinese\n",
       "1            1         czech\n",
       "2            2        danish\n",
       "3            3       english\n",
       "4            4       finnish"
      ]
     },
     "execution_count": 8,
     "metadata": {},
     "output_type": "execute_result"
    }
   ],
   "source": [
    "language.head()"
   ]
  },
  {
   "cell_type": "code",
   "execution_count": 9,
   "metadata": {
    "nbpresent": {
     "id": "a8e06b11-5222-4899-972a-6c5531fd3356"
    }
   },
   "outputs": [
    {
     "data": {
      "text/plain": [
       "(16, 2)"
      ]
     },
     "execution_count": 9,
     "metadata": {},
     "output_type": "execute_result"
    }
   ],
   "source": [
    "language.shape"
   ]
  },
  {
   "cell_type": "code",
   "execution_count": 10,
   "metadata": {
    "collapsed": true,
    "nbpresent": {
     "id": "ae7a8c95-da4c-47b3-8103-016d2e21449f"
    }
   },
   "outputs": [],
   "source": [
    "doctype_series = pd.Series(sorted(set(data['doctype'])))\n",
    "doctype = (pd.DataFrame(doctype_series.index).rename(columns={0:'doctype_id'}).\n",
    "    join(pd.DataFrame(doctype_series).rename(columns={0:'doctype_name'})))\n",
    "doctype.to_csv('doctype.csv', sep=';', index=False)"
   ]
  },
  {
   "cell_type": "code",
   "execution_count": 11,
   "metadata": {
    "nbpresent": {
     "id": "4697d76f-581d-4357-9ec3-1d8ede75a18e"
    }
   },
   "outputs": [
    {
     "data": {
      "text/html": [
       "<div>\n",
       "<table border=\"1\" class=\"dataframe\">\n",
       "  <thead>\n",
       "    <tr style=\"text-align: right;\">\n",
       "      <th></th>\n",
       "      <th>doctype_id</th>\n",
       "      <th>doctype_name</th>\n",
       "    </tr>\n",
       "  </thead>\n",
       "  <tbody>\n",
       "    <tr>\n",
       "      <th>0</th>\n",
       "      <td>0</td>\n",
       "      <td>article</td>\n",
       "    </tr>\n",
       "    <tr>\n",
       "      <th>1</th>\n",
       "      <td>1</td>\n",
       "      <td>bibliography</td>\n",
       "    </tr>\n",
       "    <tr>\n",
       "      <th>2</th>\n",
       "      <td>2</td>\n",
       "      <td>biographical-item</td>\n",
       "    </tr>\n",
       "    <tr>\n",
       "      <th>3</th>\n",
       "      <td>3</td>\n",
       "      <td>book-review</td>\n",
       "    </tr>\n",
       "    <tr>\n",
       "      <th>4</th>\n",
       "      <td>4</td>\n",
       "      <td>correction</td>\n",
       "    </tr>\n",
       "  </tbody>\n",
       "</table>\n",
       "</div>"
      ],
      "text/plain": [
       "   doctype_id       doctype_name\n",
       "0           0            article\n",
       "1           1       bibliography\n",
       "2           2  biographical-item\n",
       "3           3        book-review\n",
       "4           4         correction"
      ]
     },
     "execution_count": 11,
     "metadata": {},
     "output_type": "execute_result"
    }
   ],
   "source": [
    "doctype.head()"
   ]
  },
  {
   "cell_type": "code",
   "execution_count": 12,
   "metadata": {
    "nbpresent": {
     "id": "18d73928-f875-4ad6-acab-bb2fc6a8ac7b"
    }
   },
   "outputs": [
    {
     "data": {
      "text/plain": [
       "(14, 2)"
      ]
     },
     "execution_count": 12,
     "metadata": {},
     "output_type": "execute_result"
    }
   ],
   "source": [
    "doctype.shape"
   ]
  },
  {
   "cell_type": "code",
   "execution_count": 13,
   "metadata": {
    "collapsed": true,
    "nbpresent": {
     "id": "963b2d71-9c19-4d7e-9f45-3eda31955ade"
    }
   },
   "outputs": [],
   "source": [
    "journal_series = pd.Series(sorted(set(data['journal'])))\n",
    "journal = (pd.DataFrame(journal_series.index).rename(columns={0:'journal_id'}).\n",
    "    join(pd.DataFrame(journal_series).rename(columns={0:'journal_name'})))\n",
    "journal.to_csv('journal.csv', sep=';', index=False)"
   ]
  },
  {
   "cell_type": "code",
   "execution_count": 14,
   "metadata": {
    "nbpresent": {
     "id": "6bf6d2ee-6a07-4cab-acd5-f61f6bcb56c9"
    },
    "scrolled": true
   },
   "outputs": [
    {
     "data": {
      "text/html": [
       "<div>\n",
       "<table border=\"1\" class=\"dataframe\">\n",
       "  <thead>\n",
       "    <tr style=\"text-align: right;\">\n",
       "      <th></th>\n",
       "      <th>journal_id</th>\n",
       "      <th>journal_name</th>\n",
       "    </tr>\n",
       "  </thead>\n",
       "  <tbody>\n",
       "    <tr>\n",
       "      <th>150</th>\n",
       "      <td>150</td>\n",
       "      <td>alcoholism-clinical and experimental research</td>\n",
       "    </tr>\n",
       "    <tr>\n",
       "      <th>151</th>\n",
       "      <td>151</td>\n",
       "      <td>algorithmica</td>\n",
       "    </tr>\n",
       "    <tr>\n",
       "      <th>152</th>\n",
       "      <td>152</td>\n",
       "      <td>alimentary pharmacology &amp; therapeutics</td>\n",
       "    </tr>\n",
       "    <tr>\n",
       "      <th>153</th>\n",
       "      <td>153</td>\n",
       "      <td>allergy</td>\n",
       "    </tr>\n",
       "    <tr>\n",
       "      <th>154</th>\n",
       "      <td>154</td>\n",
       "      <td>alzheimer disease &amp; associated disorders</td>\n",
       "    </tr>\n",
       "  </tbody>\n",
       "</table>\n",
       "</div>"
      ],
      "text/plain": [
       "     journal_id                                   journal_name\n",
       "150         150  alcoholism-clinical and experimental research\n",
       "151         151                                   algorithmica\n",
       "152         152         alimentary pharmacology & therapeutics\n",
       "153         153                                        allergy\n",
       "154         154       alzheimer disease & associated disorders"
      ]
     },
     "execution_count": 14,
     "metadata": {},
     "output_type": "execute_result"
    }
   ],
   "source": [
    "journal[150:155]"
   ]
  },
  {
   "cell_type": "code",
   "execution_count": 15,
   "metadata": {
    "nbpresent": {
     "id": "34c093cc-c970-4e2e-b133-2c8eb74fc9ec"
    }
   },
   "outputs": [
    {
     "data": {
      "text/plain": [
       "(4386, 2)"
      ]
     },
     "execution_count": 15,
     "metadata": {},
     "output_type": "execute_result"
    }
   ],
   "source": [
    "journal.shape"
   ]
  },
  {
   "cell_type": "code",
   "execution_count": 16,
   "metadata": {
    "collapsed": true,
    "nbpresent": {
     "id": "bcfb4f1b-bf63-4dea-97a9-2bb6f321547f"
    }
   },
   "outputs": [],
   "source": [
    "author = list() \n",
    "for sentence in data['authors']:\n",
    "    author.extend(sentence)\n",
    "author_series = pd.Series(sorted(set([s.lower() for s in author])))\n",
    "author = (pd.DataFrame(author_series.index).rename(columns={0:'author_id'}).\n",
    "    join(pd.DataFrame(author_series).rename(columns={0:'author_name'})))\n",
    "author.to_csv('author.csv', sep=';', index=False)"
   ]
  },
  {
   "cell_type": "code",
   "execution_count": 17,
   "metadata": {
    "nbpresent": {
     "id": "ef3fabbd-0ae9-4e59-851e-2c7492fd3ba4"
    }
   },
   "outputs": [
    {
     "data": {
      "text/html": [
       "<div>\n",
       "<table border=\"1\" class=\"dataframe\">\n",
       "  <thead>\n",
       "    <tr style=\"text-align: right;\">\n",
       "      <th></th>\n",
       "      <th>author_id</th>\n",
       "      <th>author_name</th>\n",
       "    </tr>\n",
       "  </thead>\n",
       "  <tbody>\n",
       "    <tr>\n",
       "      <th>10000</th>\n",
       "      <td>10000</td>\n",
       "      <td>andersson-le</td>\n",
       "    </tr>\n",
       "    <tr>\n",
       "      <th>10001</th>\n",
       "      <td>10001</td>\n",
       "      <td>andersson-lf</td>\n",
       "    </tr>\n",
       "    <tr>\n",
       "      <th>10002</th>\n",
       "      <td>10002</td>\n",
       "      <td>andersson-lg</td>\n",
       "    </tr>\n",
       "    <tr>\n",
       "      <th>10003</th>\n",
       "      <td>10003</td>\n",
       "      <td>andersson-lhu</td>\n",
       "    </tr>\n",
       "    <tr>\n",
       "      <th>10004</th>\n",
       "      <td>10004</td>\n",
       "      <td>andersson-li</td>\n",
       "    </tr>\n",
       "  </tbody>\n",
       "</table>\n",
       "</div>"
      ],
      "text/plain": [
       "       author_id    author_name\n",
       "10000      10000   andersson-le\n",
       "10001      10001   andersson-lf\n",
       "10002      10002   andersson-lg\n",
       "10003      10003  andersson-lhu\n",
       "10004      10004   andersson-li"
      ]
     },
     "execution_count": 17,
     "metadata": {},
     "output_type": "execute_result"
    }
   ],
   "source": [
    "author[10000:10005]"
   ]
  },
  {
   "cell_type": "code",
   "execution_count": 18,
   "metadata": {
    "nbpresent": {
     "id": "7bfc7063-9dfc-49c5-bede-c4ff29e4c513"
    }
   },
   "outputs": [
    {
     "data": {
      "text/plain": [
       "(398972, 2)"
      ]
     },
     "execution_count": 18,
     "metadata": {},
     "output_type": "execute_result"
    }
   ],
   "source": [
    "author.shape"
   ]
  },
  {
   "cell_type": "code",
   "execution_count": 19,
   "metadata": {
    "collapsed": true,
    "nbpresent": {
     "id": "897de9d9-f4d4-4921-a0fe-8054fdfab566"
    }
   },
   "outputs": [],
   "source": [
    "author_dict = {v:k for k,v in author_series.iteritems()}\n",
    "author_article_link = list()\n",
    "for n, authors_of_article in enumerate(data['authors']):\n",
    "    for aut in authors_of_article:\n",
    "        author_article_link.append((author_dict[aut], n))\n",
    "author_article_link = (pd.DataFrame(sorted(author_article_link)).\n",
    "    rename(columns={0:'author_id', 1:'article_id'}))\n",
    "author_article_link = author_article_link.drop_duplicates()\n",
    "author_article_link.to_csv('map_article_author.csv', index=False, sep=';')"
   ]
  },
  {
   "cell_type": "code",
   "execution_count": 20,
   "metadata": {
    "nbpresent": {
     "id": "b59d6161-8414-42e3-8187-8ffb79989b03"
    }
   },
   "outputs": [
    {
     "data": {
      "text/html": [
       "<div>\n",
       "<table border=\"1\" class=\"dataframe\">\n",
       "  <thead>\n",
       "    <tr style=\"text-align: right;\">\n",
       "      <th></th>\n",
       "      <th>author_id</th>\n",
       "      <th>article_id</th>\n",
       "    </tr>\n",
       "  </thead>\n",
       "  <tbody>\n",
       "    <tr>\n",
       "      <th>0</th>\n",
       "      <td>0</td>\n",
       "      <td>223842</td>\n",
       "    </tr>\n",
       "    <tr>\n",
       "      <th>1</th>\n",
       "      <td>1</td>\n",
       "      <td>305016</td>\n",
       "    </tr>\n",
       "    <tr>\n",
       "      <th>2</th>\n",
       "      <td>2</td>\n",
       "      <td>29950</td>\n",
       "    </tr>\n",
       "    <tr>\n",
       "      <th>3</th>\n",
       "      <td>3</td>\n",
       "      <td>261851</td>\n",
       "    </tr>\n",
       "    <tr>\n",
       "      <th>4</th>\n",
       "      <td>4</td>\n",
       "      <td>134681</td>\n",
       "    </tr>\n",
       "  </tbody>\n",
       "</table>\n",
       "</div>"
      ],
      "text/plain": [
       "   author_id  article_id\n",
       "0          0      223842\n",
       "1          1      305016\n",
       "2          2       29950\n",
       "3          3      261851\n",
       "4          4      134681"
      ]
     },
     "execution_count": 20,
     "metadata": {},
     "output_type": "execute_result"
    }
   ],
   "source": [
    "author_article_link.head()"
   ]
  },
  {
   "cell_type": "code",
   "execution_count": 21,
   "metadata": {
    "nbpresent": {
     "id": "91d3097f-1c3a-4c46-88c2-401b4b2cee7e"
    }
   },
   "outputs": [
    {
     "data": {
      "text/plain": [
       "(2120156, 2)"
      ]
     },
     "execution_count": 21,
     "metadata": {},
     "output_type": "execute_result"
    }
   ],
   "source": [
    "author_article_link.shape"
   ]
  },
  {
   "cell_type": "code",
   "execution_count": 22,
   "metadata": {},
   "outputs": [
    {
     "data": {
      "text/plain": [
       "(81889790, 3)"
      ]
     },
     "execution_count": 22,
     "metadata": {},
     "output_type": "execute_result"
    }
   ],
   "source": [
    "author_pairs = pd.merge(author_article_link, author_article_link, on='article_id').query('author_id_x != author_id_y')\n",
    "author_pairs.shape"
   ]
  },
  {
   "cell_type": "code",
   "execution_count": 23,
   "metadata": {
    "collapsed": true,
    "nbpresent": {
     "id": "27462391-ccdf-4590-b669-9da51223265f"
    }
   },
   "outputs": [],
   "source": [
    "keyword = list() \n",
    "for sentence in data['keywords']:\n",
    "    keyword.extend(sentence)\n",
    "keyword_series = pd.Series(sorted(set(keyword)))\n",
    "keyword = (pd.DataFrame(keyword_series.index).rename(columns={0:'keyword_id'}).\n",
    "    join(pd.DataFrame(keyword_series).rename(columns={0:'keyword_name'})))\n",
    "keyword.to_csv('keyword.csv', sep=';', index=False)"
   ]
  },
  {
   "cell_type": "code",
   "execution_count": 24,
   "metadata": {},
   "outputs": [
    {
     "data": {
      "text/html": [
       "<div>\n",
       "<table border=\"1\" class=\"dataframe\">\n",
       "  <thead>\n",
       "    <tr style=\"text-align: right;\">\n",
       "      <th></th>\n",
       "      <th>keyword_id</th>\n",
       "      <th>keyword_name</th>\n",
       "    </tr>\n",
       "  </thead>\n",
       "  <tbody>\n",
       "    <tr>\n",
       "      <th>0</th>\n",
       "      <td>0</td>\n",
       "      <td>aaa</td>\n",
       "    </tr>\n",
       "    <tr>\n",
       "      <th>1</th>\n",
       "      <td>1</td>\n",
       "      <td>aaas</td>\n",
       "    </tr>\n",
       "    <tr>\n",
       "      <th>2</th>\n",
       "      <td>2</td>\n",
       "      <td>aab</td>\n",
       "    </tr>\n",
       "    <tr>\n",
       "      <th>3</th>\n",
       "      <td>3</td>\n",
       "      <td>aac</td>\n",
       "    </tr>\n",
       "    <tr>\n",
       "      <th>4</th>\n",
       "      <td>4</td>\n",
       "      <td>aadc</td>\n",
       "    </tr>\n",
       "  </tbody>\n",
       "</table>\n",
       "</div>"
      ],
      "text/plain": [
       "   keyword_id keyword_name\n",
       "0           0          aaa\n",
       "1           1         aaas\n",
       "2           2          aab\n",
       "3           3          aac\n",
       "4           4         aadc"
      ]
     },
     "execution_count": 24,
     "metadata": {},
     "output_type": "execute_result"
    }
   ],
   "source": [
    "keyword.head()"
   ]
  },
  {
   "cell_type": "code",
   "execution_count": 25,
   "metadata": {},
   "outputs": [
    {
     "data": {
      "text/plain": [
       "(100671, 2)"
      ]
     },
     "execution_count": 25,
     "metadata": {},
     "output_type": "execute_result"
    }
   ],
   "source": [
    "keyword.shape"
   ]
  },
  {
   "cell_type": "code",
   "execution_count": 26,
   "metadata": {
    "collapsed": true
   },
   "outputs": [],
   "source": [
    "keyword_dict = {v:k for k,v in keyword_series.iteritems()}\n",
    "keyword_article_link = list()\n",
    "for n, keywords_of_article in enumerate(data['keywords']):\n",
    "    for kw in keywords_of_article:\n",
    "        keyword_article_link.append((keyword_dict[kw], n))\n",
    "keyword_article_link = (pd.DataFrame(sorted(keyword_article_link)).\n",
    "    rename(columns={0:'keyword_id', 1:'article_id'}))\n",
    "keyword_article_link = keyword_article_link.drop_duplicates()\n",
    "keyword_article_link.to_csv('map_article_keyword.csv', index=False, sep=';')"
   ]
  },
  {
   "cell_type": "code",
   "execution_count": 27,
   "metadata": {
    "nbpresent": {
     "id": "87d3e7d5-277f-49b7-be80-5fee9a054f69"
    }
   },
   "outputs": [
    {
     "data": {
      "text/html": [
       "<div>\n",
       "<table border=\"1\" class=\"dataframe\">\n",
       "  <thead>\n",
       "    <tr style=\"text-align: right;\">\n",
       "      <th></th>\n",
       "      <th>keyword_id</th>\n",
       "      <th>article_id</th>\n",
       "    </tr>\n",
       "  </thead>\n",
       "  <tbody>\n",
       "    <tr>\n",
       "      <th>0</th>\n",
       "      <td>0</td>\n",
       "      <td>24047</td>\n",
       "    </tr>\n",
       "    <tr>\n",
       "      <th>1</th>\n",
       "      <td>0</td>\n",
       "      <td>85073</td>\n",
       "    </tr>\n",
       "    <tr>\n",
       "      <th>2</th>\n",
       "      <td>0</td>\n",
       "      <td>86386</td>\n",
       "    </tr>\n",
       "    <tr>\n",
       "      <th>3</th>\n",
       "      <td>0</td>\n",
       "      <td>86916</td>\n",
       "    </tr>\n",
       "    <tr>\n",
       "      <th>4</th>\n",
       "      <td>0</td>\n",
       "      <td>86919</td>\n",
       "    </tr>\n",
       "  </tbody>\n",
       "</table>\n",
       "</div>"
      ],
      "text/plain": [
       "   keyword_id  article_id\n",
       "0           0       24047\n",
       "1           0       85073\n",
       "2           0       86386\n",
       "3           0       86916\n",
       "4           0       86919"
      ]
     },
     "execution_count": 27,
     "metadata": {},
     "output_type": "execute_result"
    }
   ],
   "source": [
    "keyword_article_link.head()"
   ]
  },
  {
   "cell_type": "code",
   "execution_count": 28,
   "metadata": {
    "nbpresent": {
     "id": "3dc2dddc-a3ce-415b-8f46-1c83e8291201"
    }
   },
   "outputs": [
    {
     "data": {
      "text/plain": [
       "(4827932, 2)"
      ]
     },
     "execution_count": 28,
     "metadata": {},
     "output_type": "execute_result"
    }
   ],
   "source": [
    "keyword_article_link.shape"
   ]
  },
  {
   "cell_type": "code",
   "execution_count": 29,
   "metadata": {
    "collapsed": true
   },
   "outputs": [],
   "source": [
    "university, country = list(), list()\n",
    "for pairs in data['university_country']:\n",
    "    country.extend((pairs)[:,1])\n",
    "    university.extend((pairs)[:,0])\n",
    "university_series = pd.Series(sorted(set(university)))\n",
    "university = (pd.DataFrame(university_series.index).\n",
    "    rename(columns={0:'university_id'}).join(pd.DataFrame(university_series).\n",
    "    rename(columns={0:'university_name'})))\n",
    "university.to_csv('university.csv', header=True, sep='\\t', index=False)\n",
    "country_series = pd.Series(sorted(set(country)))\n",
    "country = (pd.DataFrame(country_series.index).rename(columns={0:'country_id'}).\n",
    "    join(pd.DataFrame(country_series).rename(columns={0:'country_name'})))\n",
    "country.to_csv('country.csv', sep=';', index=False)"
   ]
  },
  {
   "cell_type": "code",
   "execution_count": 30,
   "metadata": {
    "nbpresent": {
     "id": "553cfb8c-9741-4b71-abcf-bf55e0f64ba4"
    }
   },
   "outputs": [
    {
     "data": {
      "text/html": [
       "<div>\n",
       "<table border=\"1\" class=\"dataframe\">\n",
       "  <thead>\n",
       "    <tr style=\"text-align: right;\">\n",
       "      <th></th>\n",
       "      <th>university_id</th>\n",
       "      <th>university_name</th>\n",
       "    </tr>\n",
       "  </thead>\n",
       "  <tbody>\n",
       "    <tr>\n",
       "      <th>10000</th>\n",
       "      <td>10000</td>\n",
       "      <td>clin-hosp-gailefers</td>\n",
       "    </tr>\n",
       "    <tr>\n",
       "      <th>10001</th>\n",
       "      <td>10001</td>\n",
       "      <td>clin-hosp-lung-dis</td>\n",
       "    </tr>\n",
       "    <tr>\n",
       "      <th>10002</th>\n",
       "      <td>10002</td>\n",
       "      <td>clin-hosp-prof</td>\n",
       "    </tr>\n",
       "    <tr>\n",
       "      <th>10003</th>\n",
       "      <td>10003</td>\n",
       "      <td>clin-hosp-profesor-&amp;-clin-servet</td>\n",
       "    </tr>\n",
       "    <tr>\n",
       "      <th>10004</th>\n",
       "      <td>10004</td>\n",
       "      <td>clin-hosp-rebro</td>\n",
       "    </tr>\n",
       "  </tbody>\n",
       "</table>\n",
       "</div>"
      ],
      "text/plain": [
       "       university_id                   university_name\n",
       "10000          10000               clin-hosp-gailefers\n",
       "10001          10001                clin-hosp-lung-dis\n",
       "10002          10002                    clin-hosp-prof\n",
       "10003          10003  clin-hosp-profesor-&-clin-servet\n",
       "10004          10004                   clin-hosp-rebro"
      ]
     },
     "execution_count": 30,
     "metadata": {},
     "output_type": "execute_result"
    }
   ],
   "source": [
    "university[10000:10005]"
   ]
  },
  {
   "cell_type": "code",
   "execution_count": 31,
   "metadata": {
    "nbpresent": {
     "id": "88dbe862-78cb-4af8-abf0-3e3a90c573d9"
    }
   },
   "outputs": [
    {
     "data": {
      "text/plain": [
       "(69093, 2)"
      ]
     },
     "execution_count": 31,
     "metadata": {},
     "output_type": "execute_result"
    }
   ],
   "source": [
    "university.shape"
   ]
  },
  {
   "cell_type": "code",
   "execution_count": 32,
   "metadata": {
    "nbpresent": {
     "id": "536fbbf1-915d-4fff-8154-395b325633be"
    }
   },
   "outputs": [
    {
     "data": {
      "text/html": [
       "<div>\n",
       "<table border=\"1\" class=\"dataframe\">\n",
       "  <thead>\n",
       "    <tr style=\"text-align: right;\">\n",
       "      <th></th>\n",
       "      <th>country_id</th>\n",
       "      <th>country_name</th>\n",
       "    </tr>\n",
       "  </thead>\n",
       "  <tbody>\n",
       "    <tr>\n",
       "      <th>0</th>\n",
       "      <td>0</td>\n",
       "      <td>afghanistan</td>\n",
       "    </tr>\n",
       "    <tr>\n",
       "      <th>1</th>\n",
       "      <td>1</td>\n",
       "      <td>albania</td>\n",
       "    </tr>\n",
       "    <tr>\n",
       "      <th>2</th>\n",
       "      <td>2</td>\n",
       "      <td>algeria</td>\n",
       "    </tr>\n",
       "    <tr>\n",
       "      <th>3</th>\n",
       "      <td>3</td>\n",
       "      <td>andorra</td>\n",
       "    </tr>\n",
       "    <tr>\n",
       "      <th>4</th>\n",
       "      <td>4</td>\n",
       "      <td>angola</td>\n",
       "    </tr>\n",
       "  </tbody>\n",
       "</table>\n",
       "</div>"
      ],
      "text/plain": [
       "   country_id country_name\n",
       "0           0  afghanistan\n",
       "1           1      albania\n",
       "2           2      algeria\n",
       "3           3      andorra\n",
       "4           4       angola"
      ]
     },
     "execution_count": 32,
     "metadata": {},
     "output_type": "execute_result"
    }
   ],
   "source": [
    "country.head()"
   ]
  },
  {
   "cell_type": "code",
   "execution_count": 33,
   "metadata": {
    "nbpresent": {
     "id": "dbb84d3b-1fa5-4004-ac08-da396cdaf467"
    }
   },
   "outputs": [
    {
     "data": {
      "text/plain": [
       "(195, 2)"
      ]
     },
     "execution_count": 33,
     "metadata": {},
     "output_type": "execute_result"
    }
   ],
   "source": [
    "country.shape"
   ]
  },
  {
   "cell_type": "code",
   "execution_count": 34,
   "metadata": {
    "collapsed": true
   },
   "outputs": [],
   "source": [
    "university_dict = {v:k for k,v in university_series.iteritems()}\n",
    "country_dict = {v:k for k,v in country_series.iteritems()}\n",
    "a_u_c_link = list()\n",
    "for n, uc_pairs in enumerate(data['university_country']):\n",
    "    for u, c in uc_pairs:\n",
    "        a_u_c_link.append(np.array([n, university_dict[u], country_dict[c]]))\n",
    "a_u_c_link = (pd.DataFrame(a_u_c_link).\n",
    "    rename(columns={0:'article_id', 1:'university_id', 2:'country_id'}))\n",
    "a_u_c_link = a_u_c_link.drop_duplicates()\n",
    "a_u_c_link.to_csv('map_article_university_country.csv', index=False, sep=';')"
   ]
  },
  {
   "cell_type": "code",
   "execution_count": 35,
   "metadata": {},
   "outputs": [
    {
     "data": {
      "text/plain": [
       "(1010037, 3)"
      ]
     },
     "execution_count": 35,
     "metadata": {},
     "output_type": "execute_result"
    }
   ],
   "source": [
    "a_u_c_link.shape"
   ]
  },
  {
   "cell_type": "code",
   "execution_count": 36,
   "metadata": {},
   "outputs": [
    {
     "data": {
      "text/html": [
       "<div>\n",
       "<table border=\"1\" class=\"dataframe\">\n",
       "  <thead>\n",
       "    <tr style=\"text-align: right;\">\n",
       "      <th></th>\n",
       "      <th>article_id</th>\n",
       "      <th>university_id</th>\n",
       "      <th>country_id</th>\n",
       "    </tr>\n",
       "  </thead>\n",
       "  <tbody>\n",
       "    <tr>\n",
       "      <th>0</th>\n",
       "      <td>0</td>\n",
       "      <td>64195</td>\n",
       "      <td>31</td>\n",
       "    </tr>\n",
       "    <tr>\n",
       "      <th>1</th>\n",
       "      <td>0</td>\n",
       "      <td>170</td>\n",
       "      <td>44</td>\n",
       "    </tr>\n",
       "    <tr>\n",
       "      <th>2</th>\n",
       "      <td>0</td>\n",
       "      <td>18845</td>\n",
       "      <td>182</td>\n",
       "    </tr>\n",
       "    <tr>\n",
       "      <th>3</th>\n",
       "      <td>1</td>\n",
       "      <td>11311</td>\n",
       "      <td>44</td>\n",
       "    </tr>\n",
       "    <tr>\n",
       "      <th>4</th>\n",
       "      <td>1</td>\n",
       "      <td>49255</td>\n",
       "      <td>44</td>\n",
       "    </tr>\n",
       "  </tbody>\n",
       "</table>\n",
       "</div>"
      ],
      "text/plain": [
       "   article_id  university_id  country_id\n",
       "0           0          64195          31\n",
       "1           0            170          44\n",
       "2           0          18845         182\n",
       "3           1          11311          44\n",
       "4           1          49255          44"
      ]
     },
     "execution_count": 36,
     "metadata": {},
     "output_type": "execute_result"
    }
   ],
   "source": [
    "a_u_c_link.head()"
   ]
  },
  {
   "cell_type": "code",
   "execution_count": 37,
   "metadata": {
    "collapsed": true,
    "nbpresent": {
     "id": "810561ef-8748-4b2a-aea7-a3b6f9f6b1af"
    }
   },
   "outputs": [],
   "source": [
    "language_dict = {v:k for k,v in language_series.iteritems()}\n",
    "data['language'] = data['language'].apply(lambda x: language_dict[x])\n",
    "journal_dict = {v:k for k,v in journal_series.iteritems()}\n",
    "data['journal'] = data['journal'].apply(lambda x: journal_dict[x])\n",
    "doctype_dict = {v:k for k,v in doctype_series.iteritems()}\n",
    "data['doctype'] = data['doctype'].apply(lambda x: doctype_dict[x])\n",
    "data = data.rename(columns={'language':'language_id',\n",
    "                    'journal':'journal_id', 'doctype':'doctype_id'})\n",
    "article = (pd.DataFrame(data.index).rename(columns={0:'article_id'}).\n",
    "    join(data.drop(['authors', 'keywords',\n",
    "    'university_country', 'keywords'], axis=1)))\n",
    "article.to_csv('article.csv', sep=';', index=False)"
   ]
  },
  {
   "cell_type": "code",
   "execution_count": 38,
   "metadata": {
    "nbpresent": {
     "id": "572f8eea-d630-42e6-bfc9-0f432ac815ca"
    }
   },
   "outputs": [
    {
     "data": {
      "text/html": [
       "<div>\n",
       "<table border=\"1\" class=\"dataframe\">\n",
       "  <thead>\n",
       "    <tr style=\"text-align: right;\">\n",
       "      <th></th>\n",
       "      <th>article_id</th>\n",
       "      <th>title</th>\n",
       "      <th>language_id</th>\n",
       "      <th>doctype_id</th>\n",
       "      <th>related_records_count</th>\n",
       "      <th>references_count</th>\n",
       "      <th>abstract</th>\n",
       "      <th>journal_id</th>\n",
       "      <th>article_year</th>\n",
       "    </tr>\n",
       "  </thead>\n",
       "  <tbody>\n",
       "    <tr>\n",
       "      <th>0</th>\n",
       "      <td>0</td>\n",
       "      <td>influence of chloride solution concentration o...</td>\n",
       "      <td>3</td>\n",
       "      <td>0</td>\n",
       "      <td>1</td>\n",
       "      <td>21</td>\n",
       "      <td>to analyze the influence of the chloride solut...</td>\n",
       "      <td>8</td>\n",
       "      <td>1999</td>\n",
       "    </tr>\n",
       "    <tr>\n",
       "      <th>1</th>\n",
       "      <td>1</td>\n",
       "      <td>water permeability and autogenous healing of c...</td>\n",
       "      <td>3</td>\n",
       "      <td>0</td>\n",
       "      <td>13</td>\n",
       "      <td>17</td>\n",
       "      <td>the well-known practical phenomenon of autogen...</td>\n",
       "      <td>8</td>\n",
       "      <td>1999</td>\n",
       "    </tr>\n",
       "    <tr>\n",
       "      <th>2</th>\n",
       "      <td>2</td>\n",
       "      <td>effects of mechanical forage treatment and sur...</td>\n",
       "      <td>3</td>\n",
       "      <td>0</td>\n",
       "      <td>20</td>\n",
       "      <td>23</td>\n",
       "      <td>three silage experiments were conducted in upp...</td>\n",
       "      <td>22</td>\n",
       "      <td>1999</td>\n",
       "    </tr>\n",
       "    <tr>\n",
       "      <th>3</th>\n",
       "      <td>3</td>\n",
       "      <td>a top box and a floor box as breeding nest box...</td>\n",
       "      <td>3</td>\n",
       "      <td>0</td>\n",
       "      <td>9</td>\n",
       "      <td>20</td>\n",
       "      <td>the aim of this study was to provide field inf...</td>\n",
       "      <td>22</td>\n",
       "      <td>1999</td>\n",
       "    </tr>\n",
       "    <tr>\n",
       "      <th>4</th>\n",
       "      <td>4</td>\n",
       "      <td>effect of group composition and feeding system...</td>\n",
       "      <td>3</td>\n",
       "      <td>0</td>\n",
       "      <td>3</td>\n",
       "      <td>15</td>\n",
       "      <td>an experiment was conducted in eight danish co...</td>\n",
       "      <td>22</td>\n",
       "      <td>1999</td>\n",
       "    </tr>\n",
       "  </tbody>\n",
       "</table>\n",
       "</div>"
      ],
      "text/plain": [
       "   article_id                                              title  language_id  \\\n",
       "0           0  influence of chloride solution concentration o...            3   \n",
       "1           1  water permeability and autogenous healing of c...            3   \n",
       "2           2  effects of mechanical forage treatment and sur...            3   \n",
       "3           3  a top box and a floor box as breeding nest box...            3   \n",
       "4           4  effect of group composition and feeding system...            3   \n",
       "\n",
       "   doctype_id  related_records_count  references_count  \\\n",
       "0           0                      1                21   \n",
       "1           0                     13                17   \n",
       "2           0                     20                23   \n",
       "3           0                      9                20   \n",
       "4           0                      3                15   \n",
       "\n",
       "                                            abstract  journal_id article_year  \n",
       "0  to analyze the influence of the chloride solut...           8         1999  \n",
       "1  the well-known practical phenomenon of autogen...           8         1999  \n",
       "2  three silage experiments were conducted in upp...          22         1999  \n",
       "3  the aim of this study was to provide field inf...          22         1999  \n",
       "4  an experiment was conducted in eight danish co...          22         1999  "
      ]
     },
     "execution_count": 38,
     "metadata": {},
     "output_type": "execute_result"
    }
   ],
   "source": [
    "article.head()"
   ]
  },
  {
   "cell_type": "code",
   "execution_count": 39,
   "metadata": {
    "nbpresent": {
     "id": "cbc364a6-ff31-4e16-9ca9-a0a08c1f3e82"
    }
   },
   "outputs": [
    {
     "data": {
      "text/plain": [
       "(364221, 9)"
      ]
     },
     "execution_count": 39,
     "metadata": {},
     "output_type": "execute_result"
    }
   ],
   "source": [
    "article.shape"
   ]
  }
 ],
 "metadata": {
  "anaconda-cloud": {},
  "kernelspec": {
   "display_name": "Python [conda root]",
   "language": "python",
   "name": "conda-root-py"
  },
  "language_info": {
   "codemirror_mode": {
    "name": "ipython",
    "version": 3
   },
   "file_extension": ".py",
   "mimetype": "text/x-python",
   "name": "python",
   "nbconvert_exporter": "python",
   "pygments_lexer": "ipython3",
   "version": "3.5.2"
  },
  "nbpresent": {
   "slides": {
    "0439f9fd-262a-4d48-b1c5-9a3b8506ed47": {
     "id": "0439f9fd-262a-4d48-b1c5-9a3b8506ed47",
     "prev": "2bfbb058-f145-468b-8a9f-e5fb0de6af61",
     "regions": {
      "3c7baebd-f6ce-402c-90a5-5cf01d43ed50": {
       "attrs": {
        "height": 0.8,
        "width": 0.8,
        "x": 0.1,
        "y": 0.1
       },
       "content": {
        "cell": "bcfb4f1b-bf63-4dea-97a9-2bb6f321547f",
        "part": "whole"
       },
       "id": "3c7baebd-f6ce-402c-90a5-5cf01d43ed50"
      }
     }
    },
    "09cdefd8-3e18-4992-99b8-12802d02d967": {
     "id": "09cdefd8-3e18-4992-99b8-12802d02d967",
     "prev": "df2617e4-cb4d-4f59-80d7-f0ed6e7f5561",
     "regions": {
      "d3dc7191-9747-45f2-86bd-c4985b6999e6": {
       "attrs": {
        "height": 0.8,
        "width": 0.8,
        "x": 0.1,
        "y": 0.1
       },
       "content": {
        "cell": "2e583656-e66d-4882-a276-806cb8b4906d",
        "part": "whole"
       },
       "id": "d3dc7191-9747-45f2-86bd-c4985b6999e6"
      }
     }
    },
    "148c3e0e-34f3-4e8f-9df5-12bb895bb4de": {
     "id": "148c3e0e-34f3-4e8f-9df5-12bb895bb4de",
     "prev": "5eb63a8b-541a-4685-a98c-f9a5b4e06c9c",
     "regions": {
      "5483fa3b-08fa-415a-b608-03f799d322e8": {
       "attrs": {
        "height": 0.8,
        "width": 0.8,
        "x": 0.1,
        "y": 0.1
       },
       "content": {
        "cell": "ae7a8c95-da4c-47b3-8103-016d2e21449f",
        "part": "whole"
       },
       "id": "5483fa3b-08fa-415a-b608-03f799d322e8"
      }
     }
    },
    "16f4e722-ae93-4a2e-b505-a36d9acf5a76": {
     "id": "16f4e722-ae93-4a2e-b505-a36d9acf5a76",
     "prev": "dfd763a8-8513-4608-8c80-482b763d3203",
     "regions": {
      "b6d6c678-8307-433f-8a87-dc5c6f8a6569": {
       "attrs": {
        "height": 0.8,
        "width": 0.8,
        "x": 0.1,
        "y": 0.1
       },
       "content": {
        "cell": "7bfc7063-9dfc-49c5-bede-c4ff29e4c513",
        "part": "whole"
       },
       "id": "b6d6c678-8307-433f-8a87-dc5c6f8a6569"
      }
     }
    },
    "18ba0866-4954-4761-96e5-6a0162aa7995": {
     "id": "18ba0866-4954-4761-96e5-6a0162aa7995",
     "prev": "35a3c740-3b9d-41c5-8ea7-9190ef287557",
     "regions": {
      "88f87a3c-ce4a-4765-8d34-f0a85b037bc0": {
       "attrs": {
        "height": 0.8,
        "width": 0.8,
        "x": 0.1,
        "y": 0.1
       },
       "content": {
        "cell": "91d3097f-1c3a-4c46-88c2-401b4b2cee7e",
        "part": "whole"
       },
       "id": "88f87a3c-ce4a-4765-8d34-f0a85b037bc0"
      }
     }
    },
    "1ebd4382-e333-442c-a888-f16b053d2131": {
     "id": "1ebd4382-e333-442c-a888-f16b053d2131",
     "prev": "d197ccc8-4899-42a0-a9a7-2160b2366434",
     "regions": {
      "738d95f2-d7ac-447a-8c91-06fbfcd0f22e": {
       "attrs": {
        "height": 0.8,
        "width": 0.8,
        "x": 0.1,
        "y": 0.1
       },
       "content": {
        "cell": "b74111ff-a2bd-44a7-b08b-4e59dabd6430",
        "part": "whole"
       },
       "id": "738d95f2-d7ac-447a-8c91-06fbfcd0f22e"
      }
     }
    },
    "1fe51276-fad2-4ca5-b048-ae209daa5b2b": {
     "id": "1fe51276-fad2-4ca5-b048-ae209daa5b2b",
     "prev": "285a6d40-0c6a-40e3-b510-bd518d0aae9b",
     "regions": {
      "dda402d2-d126-42d5-9d4b-0ea3fe7ce4ae": {
       "attrs": {
        "height": 0.8,
        "width": 0.8,
        "x": 0.1,
        "y": 0.1
       },
       "content": {
        "cell": "c8b67250-5287-472b-bf7b-d8fb6b088937",
        "part": "whole"
       },
       "id": "dda402d2-d126-42d5-9d4b-0ea3fe7ce4ae"
      }
     }
    },
    "24fb8e4a-066f-4d72-983b-b61130524d2a": {
     "id": "24fb8e4a-066f-4d72-983b-b61130524d2a",
     "prev": "148c3e0e-34f3-4e8f-9df5-12bb895bb4de",
     "regions": {
      "ac39a89f-777d-46b9-92ff-a6a9a421fcc5": {
       "attrs": {
        "height": 0.8,
        "width": 0.8,
        "x": 0.1,
        "y": 0.1
       },
       "content": {
        "cell": "4697d76f-581d-4357-9ec3-1d8ede75a18e",
        "part": "whole"
       },
       "id": "ac39a89f-777d-46b9-92ff-a6a9a421fcc5"
      }
     }
    },
    "2767e781-398c-4511-8ad2-100f07a4fc58": {
     "id": "2767e781-398c-4511-8ad2-100f07a4fc58",
     "prev": "18ba0866-4954-4761-96e5-6a0162aa7995",
     "regions": {
      "f8fec538-daf6-49a3-b373-f896d3546945": {
       "attrs": {
        "height": 0.8,
        "width": 0.8,
        "x": 0.1,
        "y": 0.1
       },
       "content": {
        "cell": "27462391-ccdf-4590-b669-9da51223265f",
        "part": "whole"
       },
       "id": "f8fec538-daf6-49a3-b373-f896d3546945"
      }
     }
    },
    "285a6d40-0c6a-40e3-b510-bd518d0aae9b": {
     "id": "285a6d40-0c6a-40e3-b510-bd518d0aae9b",
     "prev": "36bae5c1-7a73-49c4-a225-d2493f4285ee",
     "regions": {
      "af4db2bf-4ba1-4914-996a-0f6689702e81": {
       "attrs": {
        "height": 0.8,
        "width": 0.8,
        "x": 0.1,
        "y": 0.1
       },
       "content": {
        "cell": "c226e5c8-15fa-4c32-8860-64ef7e187473",
        "part": "whole"
       },
       "id": "af4db2bf-4ba1-4914-996a-0f6689702e81"
      }
     }
    },
    "2aa63c54-e1ec-4a09-890c-7f2e5c2b40bc": {
     "id": "2aa63c54-e1ec-4a09-890c-7f2e5c2b40bc",
     "prev": "cd5fbac4-4e0b-4968-a462-2db1df319332",
     "regions": {
      "60ab4d21-88b6-4fb9-8561-61f9c105ea07": {
       "attrs": {
        "height": 0.8,
        "width": 0.8,
        "x": 0.1,
        "y": 0.1
       },
       "content": {
        "cell": "3a7a984f-352e-45d2-9e83-8dd214dab2be",
        "part": "whole"
       },
       "id": "60ab4d21-88b6-4fb9-8561-61f9c105ea07"
      }
     }
    },
    "2bfbb058-f145-468b-8a9f-e5fb0de6af61": {
     "id": "2bfbb058-f145-468b-8a9f-e5fb0de6af61",
     "prev": "f17a98f8-fedb-4f1d-9bd1-7b2d6bb75c02",
     "regions": {
      "b6c735a1-5db8-46be-81ac-cc0bb06f81f1": {
       "attrs": {
        "height": 0.8,
        "width": 0.8,
        "x": 0.1,
        "y": 0.1
       },
       "content": {
        "cell": "34c093cc-c970-4e2e-b133-2c8eb74fc9ec",
        "part": "whole"
       },
       "id": "b6c735a1-5db8-46be-81ac-cc0bb06f81f1"
      }
     }
    },
    "2e1ceb4d-742f-4e53-92f8-1a3e9e2fb315": {
     "id": "2e1ceb4d-742f-4e53-92f8-1a3e9e2fb315",
     "prev": "635dda63-bead-4caa-a17c-e50a566b8ef0",
     "regions": {
      "25bb925c-1b0b-44d4-825c-2b61dbc56ee2": {
       "attrs": {
        "height": 0.8,
        "width": 0.8,
        "x": 0.1,
        "y": 0.1
       },
       "content": {
        "cell": "88dbe862-78cb-4af8-abf0-3e3a90c573d9",
        "part": "whole"
       },
       "id": "25bb925c-1b0b-44d4-825c-2b61dbc56ee2"
      }
     }
    },
    "30572cdb-2474-4d85-b77f-33589ab4f5e8": {
     "id": "30572cdb-2474-4d85-b77f-33589ab4f5e8",
     "prev": "afe7b721-c075-4058-b87a-5c8a761ac647",
     "regions": {
      "11a3c0ce-e3c3-431e-a2b3-1a282b73e825": {
       "attrs": {
        "height": 0.8,
        "width": 0.8,
        "x": 0.1,
        "y": 0.1
       },
       "content": {
        "cell": "cbc364a6-ff31-4e16-9ca9-a0a08c1f3e82",
        "part": "whole"
       },
       "id": "11a3c0ce-e3c3-431e-a2b3-1a282b73e825"
      }
     }
    },
    "35a3c740-3b9d-41c5-8ea7-9190ef287557": {
     "id": "35a3c740-3b9d-41c5-8ea7-9190ef287557",
     "prev": "fffcbf75-64ad-4e28-bae3-a712fda517a8",
     "regions": {
      "f88a2b0c-b03e-4ea7-8b23-6e437eb4a2d2": {
       "attrs": {
        "height": 0.8,
        "width": 0.8,
        "x": 0.1,
        "y": 0.1
       },
       "content": {
        "cell": "b59d6161-8414-42e3-8187-8ffb79989b03",
        "part": "whole"
       },
       "id": "f88a2b0c-b03e-4ea7-8b23-6e437eb4a2d2"
      }
     }
    },
    "36bae5c1-7a73-49c4-a225-d2493f4285ee": {
     "id": "36bae5c1-7a73-49c4-a225-d2493f4285ee",
     "prev": "57514d1e-7fb5-41f3-baf2-57c65ddbc459",
     "regions": {
      "2c83625d-3309-44f9-b01e-7da0c06e00f4": {
       "attrs": {
        "height": 0.8,
        "width": 0.8,
        "x": 0.1,
        "y": 0.1
       },
       "content": {
        "cell": "dbb84d3b-1fa5-4004-ac08-da396cdaf467",
        "part": "whole"
       },
       "id": "2c83625d-3309-44f9-b01e-7da0c06e00f4"
      }
     }
    },
    "4fb006a5-796a-429e-8eca-19f53375380a": {
     "id": "4fb006a5-796a-429e-8eca-19f53375380a",
     "prev": "944b7376-f041-4e46-af7a-67e9408aa351",
     "regions": {
      "b06ab467-be21-4278-864d-72543cca362f": {
       "attrs": {
        "height": 0.8,
        "width": 0.8,
        "x": 0.1,
        "y": 0.1
       },
       "content": {
        "cell": "e34da226-ddaf-41f2-a1e8-baafbed5d380",
        "part": "whole"
       },
       "id": "b06ab467-be21-4278-864d-72543cca362f"
      }
     }
    },
    "57514d1e-7fb5-41f3-baf2-57c65ddbc459": {
     "id": "57514d1e-7fb5-41f3-baf2-57c65ddbc459",
     "prev": "2e1ceb4d-742f-4e53-92f8-1a3e9e2fb315",
     "regions": {
      "746ef480-271b-484f-9fe9-3f894fdd96fd": {
       "attrs": {
        "height": 0.8,
        "width": 0.8,
        "x": 0.1,
        "y": 0.1
       },
       "content": {
        "cell": "536fbbf1-915d-4fff-8154-395b325633be",
        "part": "whole"
       },
       "id": "746ef480-271b-484f-9fe9-3f894fdd96fd"
      }
     }
    },
    "5888c570-72c7-4320-9180-bf59f52bbf62": {
     "id": "5888c570-72c7-4320-9180-bf59f52bbf62",
     "prev": "dde8c3c9-70cd-4658-8f6a-9ac998e02a6d",
     "regions": {
      "df002959-0698-4a1c-a7fc-6458ee78ac9e": {
       "attrs": {
        "height": 0.8,
        "width": 0.8,
        "x": 0.1,
        "y": 0.1
       },
       "content": {
        "cell": "42c2592e-e627-40d1-b549-141c838e63e6",
        "part": "whole"
       },
       "id": "df002959-0698-4a1c-a7fc-6458ee78ac9e"
      }
     }
    },
    "58b0730d-d841-4dd9-a8aa-9bb400bf772a": {
     "id": "58b0730d-d841-4dd9-a8aa-9bb400bf772a",
     "prev": "61ba06ad-545f-43c8-8e4a-8299abff589c",
     "regions": {
      "4de5b5ff-62ee-4435-b01c-cd1dcb5898fc": {
       "attrs": {
        "height": 0.8,
        "width": 0.8,
        "x": 0.1,
        "y": 0.1
       },
       "content": {
        "cell": "963b2d71-9c19-4d7e-9f45-3eda31955ade",
        "part": "whole"
       },
       "id": "4de5b5ff-62ee-4435-b01c-cd1dcb5898fc"
      }
     }
    },
    "5bbf0783-0c25-4c79-aaa0-d834b75c10ef": {
     "id": "5bbf0783-0c25-4c79-aaa0-d834b75c10ef",
     "prev": "b185371a-5b19-4dbc-ac6c-da5eb012d8ed",
     "regions": {
      "2b7b2ef1-fba6-40cc-83cb-772bb5cbdee7": {
       "attrs": {
        "height": 0.8,
        "width": 0.8,
        "x": 0.1,
        "y": 0.1
       },
       "content": {
        "cell": "eb645ed0-75b7-4879-8402-73f0b71e2d5e",
        "part": "whole"
       },
       "id": "2b7b2ef1-fba6-40cc-83cb-772bb5cbdee7"
      }
     }
    },
    "5eb63a8b-541a-4685-a98c-f9a5b4e06c9c": {
     "id": "5eb63a8b-541a-4685-a98c-f9a5b4e06c9c",
     "prev": "5bbf0783-0c25-4c79-aaa0-d834b75c10ef",
     "regions": {
      "68d4a79e-756e-423d-85e1-27766c2c133f": {
       "attrs": {
        "height": 0.8,
        "width": 0.8,
        "x": 0.1,
        "y": 0.1
       },
       "content": {
        "cell": "a8e06b11-5222-4899-972a-6c5531fd3356",
        "part": "whole"
       },
       "id": "68d4a79e-756e-423d-85e1-27766c2c133f"
      }
     }
    },
    "61ba06ad-545f-43c8-8e4a-8299abff589c": {
     "id": "61ba06ad-545f-43c8-8e4a-8299abff589c",
     "prev": "24fb8e4a-066f-4d72-983b-b61130524d2a",
     "regions": {
      "7251daf5-f7a5-43a0-95c7-970985e4b188": {
       "attrs": {
        "height": 0.8,
        "width": 0.8,
        "x": 0.1,
        "y": 0.1
       },
       "content": {
        "cell": "18d73928-f875-4ad6-acab-bb2fc6a8ac7b",
        "part": "whole"
       },
       "id": "7251daf5-f7a5-43a0-95c7-970985e4b188"
      }
     }
    },
    "635dda63-bead-4caa-a17c-e50a566b8ef0": {
     "id": "635dda63-bead-4caa-a17c-e50a566b8ef0",
     "prev": "4fb006a5-796a-429e-8eca-19f53375380a",
     "regions": {
      "84d3df1e-1991-481c-b605-01ce8f2feb75": {
       "attrs": {
        "height": 0.8,
        "width": 0.8,
        "x": 0.1,
        "y": 0.1
       },
       "content": {
        "cell": "553cfb8c-9741-4b71-abcf-bf55e0f64ba4",
        "part": "whole"
       },
       "id": "84d3df1e-1991-481c-b605-01ce8f2feb75"
      }
     }
    },
    "75083f9b-8508-418d-86c0-4c81ab465e54": {
     "id": "75083f9b-8508-418d-86c0-4c81ab465e54",
     "prev": "be542406-20e4-44e4-bdf8-2ac13d07b3ae",
     "regions": {
      "e0b153b0-e5ca-4e27-99c9-2a82a38aa85f": {
       "attrs": {
        "height": 0.8,
        "width": 0.8,
        "x": 0.1,
        "y": 0.1
       },
       "content": {
        "cell": "74a7b5ee-cb28-4890-8300-f2b0f2306161",
        "part": "whole"
       },
       "id": "e0b153b0-e5ca-4e27-99c9-2a82a38aa85f"
      }
     }
    },
    "7572cf90-95b1-4d8c-9b32-e6ca1c18fa70": {
     "id": "7572cf90-95b1-4d8c-9b32-e6ca1c18fa70",
     "prev": "1ebd4382-e333-442c-a888-f16b053d2131",
     "regions": {
      "716f6f01-a548-41fc-8e0c-beba301ab50d": {
       "attrs": {
        "height": 0.8,
        "width": 0.8,
        "x": 0.1,
        "y": 0.1
       },
       "content": {
        "cell": "03e3ad9e-3837-45d9-ae25-e9a1ea7b7e24",
        "part": "whole"
       },
       "id": "716f6f01-a548-41fc-8e0c-beba301ab50d"
      }
     }
    },
    "9163455f-b06b-4748-8443-cb4f05abfe0b": {
     "id": "9163455f-b06b-4748-8443-cb4f05abfe0b",
     "prev": "09cdefd8-3e18-4992-99b8-12802d02d967",
     "regions": {
      "e0a1a331-f548-499e-8b67-16a798717b3b": {
       "attrs": {
        "height": 0.8,
        "width": 0.8,
        "x": 0.1,
        "y": 0.1
       },
       "content": {
        "cell": "54954efc-842d-4d37-abb9-6268e9722302",
        "part": "whole"
       },
       "id": "e0a1a331-f548-499e-8b67-16a798717b3b"
      }
     }
    },
    "944b7376-f041-4e46-af7a-67e9408aa351": {
     "id": "944b7376-f041-4e46-af7a-67e9408aa351",
     "prev": "c0f716bd-a2cf-4e09-a7e1-997ff7da11bd",
     "regions": {
      "808d82a9-8ee9-4db0-aa4a-3806bf4ecbc5": {
       "attrs": {
        "height": 0.8,
        "width": 0.8,
        "x": 0.1,
        "y": 0.1
       },
       "content": {
        "cell": "3dc2dddc-a3ce-415b-8f46-1c83e8291201",
        "part": "whole"
       },
       "id": "808d82a9-8ee9-4db0-aa4a-3806bf4ecbc5"
      }
     }
    },
    "afe7b721-c075-4058-b87a-5c8a761ac647": {
     "id": "afe7b721-c075-4058-b87a-5c8a761ac647",
     "prev": "5888c570-72c7-4320-9180-bf59f52bbf62",
     "regions": {
      "f35e3c18-38a0-4ab0-b295-5427ea433594": {
       "attrs": {
        "height": 0.8,
        "width": 0.8,
        "x": 0.1,
        "y": 0.1
       },
       "content": {
        "cell": "572f8eea-d630-42e6-bfc9-0f432ac815ca",
        "part": "whole"
       },
       "id": "f35e3c18-38a0-4ab0-b295-5427ea433594"
      }
     }
    },
    "b185371a-5b19-4dbc-ac6c-da5eb012d8ed": {
     "id": "b185371a-5b19-4dbc-ac6c-da5eb012d8ed",
     "prev": "c398c29f-be8f-4391-88df-0b664cce89d6",
     "regions": {
      "babc24d3-5ec8-470c-afca-a43a9657088e": {
       "attrs": {
        "height": 0.8,
        "width": 0.8,
        "x": 0.1,
        "y": 0.1
       },
       "content": {
        "cell": "d6b51fde-001f-4c0d-93c7-38149d67a1af",
        "part": "whole"
       },
       "id": "babc24d3-5ec8-470c-afca-a43a9657088e"
      }
     }
    },
    "b28e1e27-f9bf-461a-954f-86db5b9cc648": {
     "id": "b28e1e27-f9bf-461a-954f-86db5b9cc648",
     "prev": "c5854660-3035-4afc-aa86-d4c616138d48",
     "regions": {
      "23850599-5b2c-4793-b075-6f93706ff0ac": {
       "attrs": {
        "height": 0.8,
        "width": 0.8,
        "x": 0.1,
        "y": 0.1
       },
       "content": {
        "cell": "1e7866bc-ccc4-4564-8a91-65d62aa84fcf",
        "part": "whole"
       },
       "id": "23850599-5b2c-4793-b075-6f93706ff0ac"
      }
     }
    },
    "b5301efa-2bdb-483a-8003-af9bbf170044": {
     "id": "b5301efa-2bdb-483a-8003-af9bbf170044",
     "prev": null,
     "regions": {
      "26a845b3-f885-4f61-817f-8260c61f4367": {
       "attrs": {
        "height": 0.8,
        "width": 0.8,
        "x": 0.1,
        "y": 0.1
       },
       "content": {
        "cell": "8032c591-e2d0-4c2d-bf66-a4495fcef1b7",
        "part": "whole"
       },
       "id": "26a845b3-f885-4f61-817f-8260c61f4367"
      }
     }
    },
    "be542406-20e4-44e4-bdf8-2ac13d07b3ae": {
     "id": "be542406-20e4-44e4-bdf8-2ac13d07b3ae",
     "prev": "9163455f-b06b-4748-8443-cb4f05abfe0b",
     "regions": {
      "b08cc288-4a03-48cf-8e2d-cd8cc51f85d2": {
       "attrs": {
        "height": 0.8,
        "width": 0.8,
        "x": 0.1,
        "y": 0.1
       },
       "content": {
        "cell": "2f850170-6afd-4ef2-aeee-6d0d2bdc18ae",
        "part": "whole"
       },
       "id": "b08cc288-4a03-48cf-8e2d-cd8cc51f85d2"
      }
     }
    },
    "c0f716bd-a2cf-4e09-a7e1-997ff7da11bd": {
     "id": "c0f716bd-a2cf-4e09-a7e1-997ff7da11bd",
     "prev": "7572cf90-95b1-4d8c-9b32-e6ca1c18fa70",
     "regions": {
      "f2feb2fd-5b87-40f0-8d01-3533aaa6feca": {
       "attrs": {
        "height": 0.8,
        "width": 0.8,
        "x": 0.1,
        "y": 0.1
       },
       "content": {
        "cell": "87d3e7d5-277f-49b7-be80-5fee9a054f69",
        "part": "whole"
       },
       "id": "f2feb2fd-5b87-40f0-8d01-3533aaa6feca"
      }
     }
    },
    "c398c29f-be8f-4391-88df-0b664cce89d6": {
     "id": "c398c29f-be8f-4391-88df-0b664cce89d6",
     "prev": "75083f9b-8508-418d-86c0-4c81ab465e54",
     "regions": {
      "80004d72-53e0-4853-b178-501ab54b79ea": {
       "attrs": {
        "height": 0.8,
        "width": 0.8,
        "x": 0.1,
        "y": 0.1
       },
       "content": {
        "cell": "ccf2d3e1-587d-4d01-aa27-c9feda370b58",
        "part": "whole"
       },
       "id": "80004d72-53e0-4853-b178-501ab54b79ea"
      }
     }
    },
    "c5854660-3035-4afc-aa86-d4c616138d48": {
     "id": "c5854660-3035-4afc-aa86-d4c616138d48",
     "prev": "2aa63c54-e1ec-4a09-890c-7f2e5c2b40bc",
     "regions": {
      "177d301f-5623-4003-a917-dd3b0335e08b": {
       "attrs": {
        "height": 0.8,
        "width": 0.8,
        "x": 0.1,
        "y": 0.1
       },
       "content": {
        "cell": "b088a850-ca6c-470f-af2a-efbc8c23d3e7",
        "part": "whole"
       },
       "id": "177d301f-5623-4003-a917-dd3b0335e08b"
      }
     }
    },
    "cd5fbac4-4e0b-4968-a462-2db1df319332": {
     "id": "cd5fbac4-4e0b-4968-a462-2db1df319332",
     "prev": "1fe51276-fad2-4ca5-b048-ae209daa5b2b",
     "regions": {
      "39545a2f-59dc-4b08-a9ae-e29f4e56d71a": {
       "attrs": {
        "height": 0.8,
        "width": 0.8,
        "x": 0.1,
        "y": 0.1
       },
       "content": {
        "cell": "615877db-a167-4d6b-bb41-a54fe2f2a266",
        "part": "whole"
       },
       "id": "39545a2f-59dc-4b08-a9ae-e29f4e56d71a"
      }
     }
    },
    "d197ccc8-4899-42a0-a9a7-2160b2366434": {
     "id": "d197ccc8-4899-42a0-a9a7-2160b2366434",
     "prev": "2767e781-398c-4511-8ad2-100f07a4fc58",
     "regions": {
      "8a465bcf-d5e4-4510-8018-a401cfdf6299": {
       "attrs": {
        "height": 0.8,
        "width": 0.8,
        "x": 0.1,
        "y": 0.1
       },
       "content": {
        "cell": "47b934e0-34a2-4ef3-a38f-432415ad2563",
        "part": "whole"
       },
       "id": "8a465bcf-d5e4-4510-8018-a401cfdf6299"
      }
     }
    },
    "dde8c3c9-70cd-4658-8f6a-9ac998e02a6d": {
     "id": "dde8c3c9-70cd-4658-8f6a-9ac998e02a6d",
     "prev": "b28e1e27-f9bf-461a-954f-86db5b9cc648",
     "regions": {
      "e032cfca-88e2-48c4-ba0c-bcd6e9ed5cc1": {
       "attrs": {
        "height": 0.8,
        "width": 0.8,
        "x": 0.1,
        "y": 0.1
       },
       "content": {
        "cell": "810561ef-8748-4b2a-aea7-a3b6f9f6b1af",
        "part": "whole"
       },
       "id": "e032cfca-88e2-48c4-ba0c-bcd6e9ed5cc1"
      }
     }
    },
    "df2617e4-cb4d-4f59-80d7-f0ed6e7f5561": {
     "id": "df2617e4-cb4d-4f59-80d7-f0ed6e7f5561",
     "prev": "b5301efa-2bdb-483a-8003-af9bbf170044",
     "regions": {
      "85fa9d05-e9df-4b88-adad-ca4322f75605": {
       "attrs": {
        "height": 0.8,
        "width": 0.8,
        "x": 0.1,
        "y": 0.1
       },
       "content": {
        "cell": "d602e02d-9357-4a3b-b450-b3d1c2a619f9",
        "part": "whole"
       },
       "id": "85fa9d05-e9df-4b88-adad-ca4322f75605"
      }
     }
    },
    "dfd763a8-8513-4608-8c80-482b763d3203": {
     "id": "dfd763a8-8513-4608-8c80-482b763d3203",
     "prev": "0439f9fd-262a-4d48-b1c5-9a3b8506ed47",
     "regions": {
      "3fa29e0e-594b-4f84-8aa6-6e5626d7551a": {
       "attrs": {
        "height": 0.8,
        "width": 0.8,
        "x": 0.1,
        "y": 0.1
       },
       "content": {
        "cell": "ef3fabbd-0ae9-4e59-851e-2c7492fd3ba4",
        "part": "whole"
       },
       "id": "3fa29e0e-594b-4f84-8aa6-6e5626d7551a"
      }
     }
    },
    "f17a98f8-fedb-4f1d-9bd1-7b2d6bb75c02": {
     "id": "f17a98f8-fedb-4f1d-9bd1-7b2d6bb75c02",
     "prev": "58b0730d-d841-4dd9-a8aa-9bb400bf772a",
     "regions": {
      "52f4f8dd-86ed-490f-9f51-f296a1dc14b0": {
       "attrs": {
        "height": 0.8,
        "width": 0.8,
        "x": 0.1,
        "y": 0.1
       },
       "content": {
        "cell": "6bf6d2ee-6a07-4cab-acd5-f61f6bcb56c9",
        "part": "whole"
       },
       "id": "52f4f8dd-86ed-490f-9f51-f296a1dc14b0"
      }
     }
    },
    "fffcbf75-64ad-4e28-bae3-a712fda517a8": {
     "id": "fffcbf75-64ad-4e28-bae3-a712fda517a8",
     "prev": "16f4e722-ae93-4a2e-b505-a36d9acf5a76",
     "regions": {
      "cef4390d-b70d-4793-aa1d-2f6696d4b879": {
       "attrs": {
        "height": 0.8,
        "width": 0.8,
        "x": 0.1,
        "y": 0.1
       },
       "content": {
        "cell": "897de9d9-f4d4-4921-a0fe-8054fdfab566",
        "part": "whole"
       },
       "id": "cef4390d-b70d-4793-aa1d-2f6696d4b879"
      }
     }
    }
   },
   "themes": {}
  },
  "widgets": {
   "state": {},
   "version": "1.1.2"
  }
 },
 "nbformat": 4,
 "nbformat_minor": 1
}
